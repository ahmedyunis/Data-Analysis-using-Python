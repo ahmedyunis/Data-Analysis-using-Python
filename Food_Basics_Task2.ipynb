{
 "cells": [
  {
   "cell_type": "markdown",
   "metadata": {
    "id": "xfjIM8MzU6Zz"
   },
   "source": [
    "# Import Python Libraries"
   ]
  },
  {
   "cell_type": "code",
   "execution_count": 1,
   "metadata": {
    "id": "gFaQjrkq8V9K"
   },
   "outputs": [],
   "source": [
    "from pathlib import Path\n",
    "import sys\n",
    "import  numpy as np \n",
    "import pandas as pd\n",
    "import pandas_profiling as pdf \n",
    "import matplotlib.pyplot as plt  \n",
    "import  seaborn as  sns \n",
    "%matplotlib inline\n",
    "\n",
    "#libararies for working in EXCEL\n",
    "import openpyxl\n",
    "\n",
    "#DateTime Library\n",
    "from datetime import timedelta\n",
    "from datetime import datetime as dt\n"
   ]
  },
  {
   "cell_type": "markdown",
   "metadata": {
    "id": "K8TLhXdIVcBB"
   },
   "source": [
    "# Load Excel File"
   ]
  },
  {
   "cell_type": "code",
   "execution_count": 2,
   "metadata": {
    "colab": {
     "base_uri": "https://localhost:8080/"
    },
    "id": "mqe0dKgkd3sc",
    "outputId": "4ec99cc1-9b12-4d86-ad23-5b7d169ac3a6"
   },
   "outputs": [
    {
     "name": "stdout",
     "output_type": "stream",
     "text": [
      "Restaurant\n"
     ]
    }
   ],
   "source": [
    "\n",
    "filename = \"/content/Second Sheet.xlsx\"\n",
    "wb = openpyxl.load_workbook(filename)\n",
    "\n",
    "#Accessing the WorkSheet on Excel need to be edited\n",
    "sheet = wb['Sheet0']\n",
    "\n",
    "#Print Out the Cell Value\n",
    "status = sheet.cell(sheet.min_row, 1).value\n",
    "print(status)\n",
    "\n",
    "#Delete the first 3 Rows \n",
    "sheet.delete_rows(1,3)\n",
    "\n",
    "#delete # Culomn > First culomn\n",
    "sheet.delete_cols(1)\n",
    "\n",
    "#Delete Transaction Type, Transaction Date Culomn \n",
    "sheet.delete_cols(4,2)\n",
    "\n",
    "#Delete the last 3 culomns > Comment, Free, Missing item name\n",
    "sheet.delete_cols(6,3)\n",
    "\n",
    "#Saving the Modified Excel File \n",
    "wb.save(\"/content/SecSheet.xlsx\")"
   ]
  },
  {
   "cell_type": "markdown",
   "metadata": {
    "id": "MPihNIJT_Pv-"
   },
   "source": [
    "## Read Excel File as DataFrame"
   ]
  },
  {
   "cell_type": "code",
   "execution_count": 3,
   "metadata": {
    "id": "0EkeNA1Hby7B"
   },
   "outputs": [],
   "source": [
    "df = pd.read_excel(\"/content/SecSheet.xlsx\")"
   ]
  },
  {
   "cell_type": "code",
   "execution_count": 4,
   "metadata": {
    "colab": {
     "base_uri": "https://localhost:8080/"
    },
    "id": "fZ2u3WbfcGA7",
    "outputId": "1182fa58-f36f-4925-bf5f-31eeb4a4bbe6"
   },
   "outputs": [
    {
     "name": "stdout",
     "output_type": "stream",
     "text": [
      "<class 'pandas.core.frame.DataFrame'>\n",
      "RangeIndex: 38 entries, 0 to 37\n",
      "Data columns (total 5 columns):\n",
      " #   Column               Non-Null Count  Dtype  \n",
      "---  ------               --------------  -----  \n",
      " 0   Restaurant           38 non-null     object \n",
      " 1   Branch               38 non-null     object \n",
      " 2   Order #              38 non-null     int64  \n",
      " 3   Order Creation Date  38 non-null     object \n",
      " 4   Amount               38 non-null     float64\n",
      "dtypes: float64(1), int64(1), object(3)\n",
      "memory usage: 1.6+ KB\n"
     ]
    }
   ],
   "source": [
    "df.info()"
   ]
  },
  {
   "cell_type": "code",
   "execution_count": 5,
   "metadata": {
    "colab": {
     "base_uri": "https://localhost:8080/"
    },
    "id": "uojCw2yKColx",
    "outputId": "b26e6d93-8dd3-4af3-dfbb-6460b2bc679a"
   },
   "outputs": [
    {
     "data": {
      "text/plain": [
       "Restaurant              object\n",
       "Branch                  object\n",
       "Order #                  int64\n",
       "Order Creation Date     object\n",
       "Amount                 float64\n",
       "dtype: object"
      ]
     },
     "execution_count": 5,
     "metadata": {
      "tags": []
     },
     "output_type": "execute_result"
    }
   ],
   "source": [
    "df.dtypes"
   ]
  },
  {
   "cell_type": "markdown",
   "metadata": {
    "id": "Z-QPjyHoAvud"
   },
   "source": [
    "Display the  First 5 Culom in the DataFrame(Excel sheet)"
   ]
  },
  {
   "cell_type": "code",
   "execution_count": 6,
   "metadata": {
    "colab": {
     "base_uri": "https://localhost:8080/",
     "height": 195
    },
    "id": "DzoaFRErcDqn",
    "outputId": "debc00cc-8f5c-4d32-891a-e8cf0641f55b"
   },
   "outputs": [
    {
     "data": {
      "text/html": [
       "<div>\n",
       "<style scoped>\n",
       "    .dataframe tbody tr th:only-of-type {\n",
       "        vertical-align: middle;\n",
       "    }\n",
       "\n",
       "    .dataframe tbody tr th {\n",
       "        vertical-align: top;\n",
       "    }\n",
       "\n",
       "    .dataframe thead th {\n",
       "        text-align: right;\n",
       "    }\n",
       "</style>\n",
       "<table border=\"1\" class=\"dataframe\">\n",
       "  <thead>\n",
       "    <tr style=\"text-align: right;\">\n",
       "      <th></th>\n",
       "      <th>Restaurant</th>\n",
       "      <th>Branch</th>\n",
       "      <th>Order #</th>\n",
       "      <th>Order Creation Date</th>\n",
       "      <th>Amount</th>\n",
       "    </tr>\n",
       "  </thead>\n",
       "  <tbody>\n",
       "    <tr>\n",
       "      <th>0</th>\n",
       "      <td>Hamburgini - هامبرغيني</td>\n",
       "      <td>Al Khaleej</td>\n",
       "      <td>36620581</td>\n",
       "      <td>13/12/2020 11:01:18 PM</td>\n",
       "      <td>23.0</td>\n",
       "    </tr>\n",
       "    <tr>\n",
       "      <th>1</th>\n",
       "      <td>Hamburgini - هامبرغيني</td>\n",
       "      <td>Al-Jazeerah</td>\n",
       "      <td>36636541</td>\n",
       "      <td>14/12/2020 01:16:48 AM</td>\n",
       "      <td>48.0</td>\n",
       "    </tr>\n",
       "    <tr>\n",
       "      <th>2</th>\n",
       "      <td>Hamburgini - هامبرغيني</td>\n",
       "      <td>Al-Jazeerah</td>\n",
       "      <td>36636541</td>\n",
       "      <td>14/12/2020 01:16:48 AM</td>\n",
       "      <td>48.0</td>\n",
       "    </tr>\n",
       "    <tr>\n",
       "      <th>3</th>\n",
       "      <td>Hamburgini - هامبرغيني</td>\n",
       "      <td>Al Azizia</td>\n",
       "      <td>36632279</td>\n",
       "      <td>14/12/2020 12:28:31 AM</td>\n",
       "      <td>35.0</td>\n",
       "    </tr>\n",
       "    <tr>\n",
       "      <th>4</th>\n",
       "      <td>Hamburgini - هامبرغيني</td>\n",
       "      <td>Al Azizia</td>\n",
       "      <td>36632279</td>\n",
       "      <td>14/12/2020 12:28:31 AM</td>\n",
       "      <td>35.0</td>\n",
       "    </tr>\n",
       "  </tbody>\n",
       "</table>\n",
       "</div>"
      ],
      "text/plain": [
       "               Restaurant       Branch  ...     Order Creation Date Amount\n",
       "0  Hamburgini - هامبرغيني   Al Khaleej  ...  13/12/2020 11:01:18 PM   23.0\n",
       "1  Hamburgini - هامبرغيني  Al-Jazeerah  ...  14/12/2020 01:16:48 AM   48.0\n",
       "2  Hamburgini - هامبرغيني  Al-Jazeerah  ...  14/12/2020 01:16:48 AM   48.0\n",
       "3  Hamburgini - هامبرغيني    Al Azizia  ...  14/12/2020 12:28:31 AM   35.0\n",
       "4  Hamburgini - هامبرغيني    Al Azizia  ...  14/12/2020 12:28:31 AM   35.0\n",
       "\n",
       "[5 rows x 5 columns]"
      ]
     },
     "execution_count": 6,
     "metadata": {
      "tags": []
     },
     "output_type": "execute_result"
    }
   ],
   "source": [
    "df.head()"
   ]
  },
  {
   "cell_type": "markdown",
   "metadata": {
    "id": "aztrAJcMDOFO"
   },
   "source": [
    "Convert Order Creation Date To date time type "
   ]
  },
  {
   "cell_type": "code",
   "execution_count": 7,
   "metadata": {
    "id": "kSX2L23MCHoV"
   },
   "outputs": [],
   "source": [
    "df['Order Creation Date'] = pd.to_datetime(df['Order Creation Date'])"
   ]
  },
  {
   "cell_type": "code",
   "execution_count": 8,
   "metadata": {
    "colab": {
     "base_uri": "https://localhost:8080/"
    },
    "id": "83dEj_9FDq4N",
    "outputId": "d86a09b2-8d54-4d90-a61a-18867523511e"
   },
   "outputs": [
    {
     "data": {
      "text/plain": [
       "Restaurant                     object\n",
       "Branch                         object\n",
       "Order #                         int64\n",
       "Order Creation Date    datetime64[ns]\n",
       "Amount                        float64\n",
       "dtype: object"
      ]
     },
     "execution_count": 8,
     "metadata": {
      "tags": []
     },
     "output_type": "execute_result"
    }
   ],
   "source": [
    "df.dtypes"
   ]
  },
  {
   "cell_type": "code",
   "execution_count": 9,
   "metadata": {
    "colab": {
     "base_uri": "https://localhost:8080/",
     "height": 195
    },
    "id": "KyW7GYxIDhnW",
    "outputId": "9b834a7d-dedf-4ba1-a2b6-a2bdbce3a620"
   },
   "outputs": [
    {
     "data": {
      "text/html": [
       "<div>\n",
       "<style scoped>\n",
       "    .dataframe tbody tr th:only-of-type {\n",
       "        vertical-align: middle;\n",
       "    }\n",
       "\n",
       "    .dataframe tbody tr th {\n",
       "        vertical-align: top;\n",
       "    }\n",
       "\n",
       "    .dataframe thead th {\n",
       "        text-align: right;\n",
       "    }\n",
       "</style>\n",
       "<table border=\"1\" class=\"dataframe\">\n",
       "  <thead>\n",
       "    <tr style=\"text-align: right;\">\n",
       "      <th></th>\n",
       "      <th>Restaurant</th>\n",
       "      <th>Branch</th>\n",
       "      <th>Order #</th>\n",
       "      <th>Order Creation Date</th>\n",
       "      <th>Amount</th>\n",
       "    </tr>\n",
       "  </thead>\n",
       "  <tbody>\n",
       "    <tr>\n",
       "      <th>0</th>\n",
       "      <td>Hamburgini - هامبرغيني</td>\n",
       "      <td>Al Khaleej</td>\n",
       "      <td>36620581</td>\n",
       "      <td>2020-12-13 23:01:18</td>\n",
       "      <td>23.0</td>\n",
       "    </tr>\n",
       "    <tr>\n",
       "      <th>1</th>\n",
       "      <td>Hamburgini - هامبرغيني</td>\n",
       "      <td>Al-Jazeerah</td>\n",
       "      <td>36636541</td>\n",
       "      <td>2020-12-14 01:16:48</td>\n",
       "      <td>48.0</td>\n",
       "    </tr>\n",
       "    <tr>\n",
       "      <th>2</th>\n",
       "      <td>Hamburgini - هامبرغيني</td>\n",
       "      <td>Al-Jazeerah</td>\n",
       "      <td>36636541</td>\n",
       "      <td>2020-12-14 01:16:48</td>\n",
       "      <td>48.0</td>\n",
       "    </tr>\n",
       "    <tr>\n",
       "      <th>3</th>\n",
       "      <td>Hamburgini - هامبرغيني</td>\n",
       "      <td>Al Azizia</td>\n",
       "      <td>36632279</td>\n",
       "      <td>2020-12-14 00:28:31</td>\n",
       "      <td>35.0</td>\n",
       "    </tr>\n",
       "    <tr>\n",
       "      <th>4</th>\n",
       "      <td>Hamburgini - هامبرغيني</td>\n",
       "      <td>Al Azizia</td>\n",
       "      <td>36632279</td>\n",
       "      <td>2020-12-14 00:28:31</td>\n",
       "      <td>35.0</td>\n",
       "    </tr>\n",
       "  </tbody>\n",
       "</table>\n",
       "</div>"
      ],
      "text/plain": [
       "               Restaurant       Branch   Order # Order Creation Date  Amount\n",
       "0  Hamburgini - هامبرغيني   Al Khaleej  36620581 2020-12-13 23:01:18    23.0\n",
       "1  Hamburgini - هامبرغيني  Al-Jazeerah  36636541 2020-12-14 01:16:48    48.0\n",
       "2  Hamburgini - هامبرغيني  Al-Jazeerah  36636541 2020-12-14 01:16:48    48.0\n",
       "3  Hamburgini - هامبرغيني    Al Azizia  36632279 2020-12-14 00:28:31    35.0\n",
       "4  Hamburgini - هامبرغيني    Al Azizia  36632279 2020-12-14 00:28:31    35.0"
      ]
     },
     "execution_count": 9,
     "metadata": {
      "tags": []
     },
     "output_type": "execute_result"
    }
   ],
   "source": [
    "df.head()"
   ]
  },
  {
   "cell_type": "markdown",
   "metadata": {
    "id": "WDXii1cVFFXF"
   },
   "source": [
    "Deduct five hours of Order Creation Date"
   ]
  },
  {
   "cell_type": "code",
   "execution_count": 10,
   "metadata": {
    "id": "-AxhtchODksw"
   },
   "outputs": [],
   "source": [
    "df['Order Creation Date'] = pd.to_datetime(df['Order Creation Date']) - timedelta(hours=5)\n"
   ]
  },
  {
   "cell_type": "code",
   "execution_count": 11,
   "metadata": {
    "colab": {
     "base_uri": "https://localhost:8080/",
     "height": 195
    },
    "id": "pt96o_gtFoc9",
    "outputId": "ecb74a38-d327-43c5-9b82-05d32c8f7779"
   },
   "outputs": [
    {
     "data": {
      "text/html": [
       "<div>\n",
       "<style scoped>\n",
       "    .dataframe tbody tr th:only-of-type {\n",
       "        vertical-align: middle;\n",
       "    }\n",
       "\n",
       "    .dataframe tbody tr th {\n",
       "        vertical-align: top;\n",
       "    }\n",
       "\n",
       "    .dataframe thead th {\n",
       "        text-align: right;\n",
       "    }\n",
       "</style>\n",
       "<table border=\"1\" class=\"dataframe\">\n",
       "  <thead>\n",
       "    <tr style=\"text-align: right;\">\n",
       "      <th></th>\n",
       "      <th>Restaurant</th>\n",
       "      <th>Branch</th>\n",
       "      <th>Order #</th>\n",
       "      <th>Order Creation Date</th>\n",
       "      <th>Amount</th>\n",
       "    </tr>\n",
       "  </thead>\n",
       "  <tbody>\n",
       "    <tr>\n",
       "      <th>0</th>\n",
       "      <td>Hamburgini - هامبرغيني</td>\n",
       "      <td>Al Khaleej</td>\n",
       "      <td>36620581</td>\n",
       "      <td>2020-12-13 18:01:18</td>\n",
       "      <td>23.0</td>\n",
       "    </tr>\n",
       "    <tr>\n",
       "      <th>1</th>\n",
       "      <td>Hamburgini - هامبرغيني</td>\n",
       "      <td>Al-Jazeerah</td>\n",
       "      <td>36636541</td>\n",
       "      <td>2020-12-13 20:16:48</td>\n",
       "      <td>48.0</td>\n",
       "    </tr>\n",
       "    <tr>\n",
       "      <th>2</th>\n",
       "      <td>Hamburgini - هامبرغيني</td>\n",
       "      <td>Al-Jazeerah</td>\n",
       "      <td>36636541</td>\n",
       "      <td>2020-12-13 20:16:48</td>\n",
       "      <td>48.0</td>\n",
       "    </tr>\n",
       "    <tr>\n",
       "      <th>3</th>\n",
       "      <td>Hamburgini - هامبرغيني</td>\n",
       "      <td>Al Azizia</td>\n",
       "      <td>36632279</td>\n",
       "      <td>2020-12-13 19:28:31</td>\n",
       "      <td>35.0</td>\n",
       "    </tr>\n",
       "    <tr>\n",
       "      <th>4</th>\n",
       "      <td>Hamburgini - هامبرغيني</td>\n",
       "      <td>Al Azizia</td>\n",
       "      <td>36632279</td>\n",
       "      <td>2020-12-13 19:28:31</td>\n",
       "      <td>35.0</td>\n",
       "    </tr>\n",
       "  </tbody>\n",
       "</table>\n",
       "</div>"
      ],
      "text/plain": [
       "               Restaurant       Branch   Order # Order Creation Date  Amount\n",
       "0  Hamburgini - هامبرغيني   Al Khaleej  36620581 2020-12-13 18:01:18    23.0\n",
       "1  Hamburgini - هامبرغيني  Al-Jazeerah  36636541 2020-12-13 20:16:48    48.0\n",
       "2  Hamburgini - هامبرغيني  Al-Jazeerah  36636541 2020-12-13 20:16:48    48.0\n",
       "3  Hamburgini - هامبرغيني    Al Azizia  36632279 2020-12-13 19:28:31    35.0\n",
       "4  Hamburgini - هامبرغيني    Al Azizia  36632279 2020-12-13 19:28:31    35.0"
      ]
     },
     "execution_count": 11,
     "metadata": {
      "tags": []
     },
     "output_type": "execute_result"
    }
   ],
   "source": [
    "df.head()"
   ]
  },
  {
   "cell_type": "markdown",
   "metadata": {
    "id": "fCwWuztTWGh-"
   },
   "source": [
    "Convert Order Creation Date To Object"
   ]
  },
  {
   "cell_type": "code",
   "execution_count": 12,
   "metadata": {
    "id": "QoVul1a_dm_d"
   },
   "outputs": [],
   "source": [
    "df_copy = df.copy()"
   ]
  },
  {
   "cell_type": "code",
   "execution_count": 13,
   "metadata": {
    "id": "TNCQY9XlV9LA"
   },
   "outputs": [],
   "source": [
    "df_copy['Order Creation Date']=df_copy['Order Creation Date'].dt.strftime(\"%Y/%m/%d %H:%M:%S %p\")"
   ]
  },
  {
   "cell_type": "code",
   "execution_count": 14,
   "metadata": {
    "colab": {
     "base_uri": "https://localhost:8080/"
    },
    "id": "5Z_23dwzYklY",
    "outputId": "68f7e5ca-93f4-4d8e-bf60-49ab7150af44"
   },
   "outputs": [
    {
     "data": {
      "text/plain": [
       "Restaurant              object\n",
       "Branch                  object\n",
       "Order #                  int64\n",
       "Order Creation Date     object\n",
       "Amount                 float64\n",
       "dtype: object"
      ]
     },
     "execution_count": 14,
     "metadata": {
      "tags": []
     },
     "output_type": "execute_result"
    }
   ],
   "source": [
    "df_copy.dtypes"
   ]
  },
  {
   "cell_type": "code",
   "execution_count": 15,
   "metadata": {
    "colab": {
     "base_uri": "https://localhost:8080/",
     "height": 195
    },
    "id": "xPquHTRfYrHZ",
    "outputId": "72818c2d-b1f3-4bdf-f159-e5e58080df32"
   },
   "outputs": [
    {
     "data": {
      "text/html": [
       "<div>\n",
       "<style scoped>\n",
       "    .dataframe tbody tr th:only-of-type {\n",
       "        vertical-align: middle;\n",
       "    }\n",
       "\n",
       "    .dataframe tbody tr th {\n",
       "        vertical-align: top;\n",
       "    }\n",
       "\n",
       "    .dataframe thead th {\n",
       "        text-align: right;\n",
       "    }\n",
       "</style>\n",
       "<table border=\"1\" class=\"dataframe\">\n",
       "  <thead>\n",
       "    <tr style=\"text-align: right;\">\n",
       "      <th></th>\n",
       "      <th>Restaurant</th>\n",
       "      <th>Branch</th>\n",
       "      <th>Order #</th>\n",
       "      <th>Order Creation Date</th>\n",
       "      <th>Amount</th>\n",
       "    </tr>\n",
       "  </thead>\n",
       "  <tbody>\n",
       "    <tr>\n",
       "      <th>0</th>\n",
       "      <td>Hamburgini - هامبرغيني</td>\n",
       "      <td>Al Khaleej</td>\n",
       "      <td>36620581</td>\n",
       "      <td>2020/12/13 18:01:18 PM</td>\n",
       "      <td>23.0</td>\n",
       "    </tr>\n",
       "    <tr>\n",
       "      <th>1</th>\n",
       "      <td>Hamburgini - هامبرغيني</td>\n",
       "      <td>Al-Jazeerah</td>\n",
       "      <td>36636541</td>\n",
       "      <td>2020/12/13 20:16:48 PM</td>\n",
       "      <td>48.0</td>\n",
       "    </tr>\n",
       "    <tr>\n",
       "      <th>2</th>\n",
       "      <td>Hamburgini - هامبرغيني</td>\n",
       "      <td>Al-Jazeerah</td>\n",
       "      <td>36636541</td>\n",
       "      <td>2020/12/13 20:16:48 PM</td>\n",
       "      <td>48.0</td>\n",
       "    </tr>\n",
       "    <tr>\n",
       "      <th>3</th>\n",
       "      <td>Hamburgini - هامبرغيني</td>\n",
       "      <td>Al Azizia</td>\n",
       "      <td>36632279</td>\n",
       "      <td>2020/12/13 19:28:31 PM</td>\n",
       "      <td>35.0</td>\n",
       "    </tr>\n",
       "    <tr>\n",
       "      <th>4</th>\n",
       "      <td>Hamburgini - هامبرغيني</td>\n",
       "      <td>Al Azizia</td>\n",
       "      <td>36632279</td>\n",
       "      <td>2020/12/13 19:28:31 PM</td>\n",
       "      <td>35.0</td>\n",
       "    </tr>\n",
       "  </tbody>\n",
       "</table>\n",
       "</div>"
      ],
      "text/plain": [
       "               Restaurant       Branch  ...     Order Creation Date Amount\n",
       "0  Hamburgini - هامبرغيني   Al Khaleej  ...  2020/12/13 18:01:18 PM   23.0\n",
       "1  Hamburgini - هامبرغيني  Al-Jazeerah  ...  2020/12/13 20:16:48 PM   48.0\n",
       "2  Hamburgini - هامبرغيني  Al-Jazeerah  ...  2020/12/13 20:16:48 PM   48.0\n",
       "3  Hamburgini - هامبرغيني    Al Azizia  ...  2020/12/13 19:28:31 PM   35.0\n",
       "4  Hamburgini - هامبرغيني    Al Azizia  ...  2020/12/13 19:28:31 PM   35.0\n",
       "\n",
       "[5 rows x 5 columns]"
      ]
     },
     "execution_count": 15,
     "metadata": {
      "tags": []
     },
     "output_type": "execute_result"
    }
   ],
   "source": [
    "df_copy.head()"
   ]
  },
  {
   "cell_type": "code",
   "execution_count": 16,
   "metadata": {
    "id": "6m6KM0onTyq4"
   },
   "outputs": [],
   "source": [
    "#save DataFrame to Excel Sheet afrter deduc 5 hours \n",
    "df_copy.to_excel(\"/content/SecSheetDeduc.xlsx\")"
   ]
  },
  {
   "cell_type": "code",
   "execution_count": 17,
   "metadata": {
    "colab": {
     "base_uri": "https://localhost:8080/"
    },
    "id": "y6JVu-3yRAqA",
    "outputId": "9ab5e4d5-c920-4ef4-8f4c-ddb1db462c98"
   },
   "outputs": [
    {
     "data": {
      "text/plain": [
       "Index(['Restaurant', 'Branch', 'Order #', 'Order Creation Date', 'Amount'], dtype='object')"
      ]
     },
     "execution_count": 17,
     "metadata": {
      "tags": []
     },
     "output_type": "execute_result"
    }
   ],
   "source": [
    "df.columns"
   ]
  },
  {
   "cell_type": "markdown",
   "metadata": {
    "id": "UpLUqy-GTF84"
   },
   "source": [
    "## **PivotTables**"
   ]
  },
  {
   "cell_type": "code",
   "execution_count": 18,
   "metadata": {
    "id": "jKRcf3fXFr_V"
   },
   "outputs": [],
   "source": [
    "#Number of Orders/Branch \n",
    "Order_Branch_Pivot = pd.pivot_table(df_copy,'Order #',index=['Branch'], aggfunc='count',margins=True, margins_name=\"Total\")"
   ]
  },
  {
   "cell_type": "code",
   "execution_count": 19,
   "metadata": {
    "colab": {
     "base_uri": "https://localhost:8080/",
     "height": 669
    },
    "id": "JkgZ4geoO_PH",
    "outputId": "86f0de4f-60ac-44bc-9d60-01862f7f5357"
   },
   "outputs": [
    {
     "data": {
      "text/html": [
       "<div>\n",
       "<style scoped>\n",
       "    .dataframe tbody tr th:only-of-type {\n",
       "        vertical-align: middle;\n",
       "    }\n",
       "\n",
       "    .dataframe tbody tr th {\n",
       "        vertical-align: top;\n",
       "    }\n",
       "\n",
       "    .dataframe thead th {\n",
       "        text-align: right;\n",
       "    }\n",
       "</style>\n",
       "<table border=\"1\" class=\"dataframe\">\n",
       "  <thead>\n",
       "    <tr style=\"text-align: right;\">\n",
       "      <th></th>\n",
       "      <th>Order #</th>\n",
       "    </tr>\n",
       "    <tr>\n",
       "      <th>Branch</th>\n",
       "      <th></th>\n",
       "    </tr>\n",
       "  </thead>\n",
       "  <tbody>\n",
       "    <tr>\n",
       "      <th>Al Azizia</th>\n",
       "      <td>3</td>\n",
       "    </tr>\n",
       "    <tr>\n",
       "      <th>Al Balad</th>\n",
       "      <td>3</td>\n",
       "    </tr>\n",
       "    <tr>\n",
       "      <th>Al Khaleej</th>\n",
       "      <td>2</td>\n",
       "    </tr>\n",
       "    <tr>\n",
       "      <th>Al Manar</th>\n",
       "      <td>1</td>\n",
       "    </tr>\n",
       "    <tr>\n",
       "      <th>Al Murooj</th>\n",
       "      <td>1</td>\n",
       "    </tr>\n",
       "    <tr>\n",
       "      <th>Al Quds</th>\n",
       "      <td>1</td>\n",
       "    </tr>\n",
       "    <tr>\n",
       "      <th>Al Rabie</th>\n",
       "      <td>1</td>\n",
       "    </tr>\n",
       "    <tr>\n",
       "      <th>Al Rabwa</th>\n",
       "      <td>3</td>\n",
       "    </tr>\n",
       "    <tr>\n",
       "      <th>Al Rayyan - Buraidah</th>\n",
       "      <td>2</td>\n",
       "    </tr>\n",
       "    <tr>\n",
       "      <th>Al Shatee - Al Dammam</th>\n",
       "      <td>3</td>\n",
       "    </tr>\n",
       "    <tr>\n",
       "      <th>Al Yarmouk</th>\n",
       "      <td>4</td>\n",
       "    </tr>\n",
       "    <tr>\n",
       "      <th>Al-Jazeerah</th>\n",
       "      <td>2</td>\n",
       "    </tr>\n",
       "    <tr>\n",
       "      <th>Al-Naeem</th>\n",
       "      <td>5</td>\n",
       "    </tr>\n",
       "    <tr>\n",
       "      <th>Al-Narjes</th>\n",
       "      <td>1</td>\n",
       "    </tr>\n",
       "    <tr>\n",
       "      <th>Dahrat Laban</th>\n",
       "      <td>1</td>\n",
       "    </tr>\n",
       "    <tr>\n",
       "      <th>Dariyah</th>\n",
       "      <td>1</td>\n",
       "    </tr>\n",
       "    <tr>\n",
       "      <th>Irqa</th>\n",
       "      <td>1</td>\n",
       "    </tr>\n",
       "    <tr>\n",
       "      <th>Nahda</th>\n",
       "      <td>1</td>\n",
       "    </tr>\n",
       "    <tr>\n",
       "      <th>Wusayta</th>\n",
       "      <td>2</td>\n",
       "    </tr>\n",
       "    <tr>\n",
       "      <th>Total</th>\n",
       "      <td>38</td>\n",
       "    </tr>\n",
       "  </tbody>\n",
       "</table>\n",
       "</div>"
      ],
      "text/plain": [
       "                       Order #\n",
       "Branch                        \n",
       "Al Azizia                    3\n",
       "Al Balad                     3\n",
       "Al Khaleej                   2\n",
       "Al Manar                     1\n",
       "Al Murooj                    1\n",
       "Al Quds                      1\n",
       "Al Rabie                     1\n",
       "Al Rabwa                     3\n",
       "Al Rayyan - Buraidah         2\n",
       "Al Shatee - Al Dammam        3\n",
       "Al Yarmouk                   4\n",
       "Al-Jazeerah                  2\n",
       "Al-Naeem                     5\n",
       "Al-Narjes                    1\n",
       "Dahrat Laban                 1\n",
       "Dariyah                      1\n",
       "Irqa                         1\n",
       "Nahda                        1\n",
       "Wusayta                      2\n",
       "Total                       38"
      ]
     },
     "execution_count": 19,
     "metadata": {
      "tags": []
     },
     "output_type": "execute_result"
    }
   ],
   "source": [
    "Order_Branch_Pivot"
   ]
  },
  {
   "cell_type": "code",
   "execution_count": 30,
   "metadata": {
    "id": "ZKXl6qlaPBZU"
   },
   "outputs": [],
   "source": [
    "#Amount /branch \n",
    "Amount_Branch_Pivot = pd.pivot_table(df_copy,'Amount',index=['Branch'], aggfunc='sum',margins=True, margins_name=\"Total\")"
   ]
  },
  {
   "cell_type": "code",
   "execution_count": 31,
   "metadata": {
    "colab": {
     "base_uri": "https://localhost:8080/",
     "height": 669
    },
    "id": "9rGiaoACT5et",
    "outputId": "5746eec0-7107-4bd2-c4b3-4866985780cd"
   },
   "outputs": [
    {
     "data": {
      "text/html": [
       "<div>\n",
       "<style scoped>\n",
       "    .dataframe tbody tr th:only-of-type {\n",
       "        vertical-align: middle;\n",
       "    }\n",
       "\n",
       "    .dataframe tbody tr th {\n",
       "        vertical-align: top;\n",
       "    }\n",
       "\n",
       "    .dataframe thead th {\n",
       "        text-align: right;\n",
       "    }\n",
       "</style>\n",
       "<table border=\"1\" class=\"dataframe\">\n",
       "  <thead>\n",
       "    <tr style=\"text-align: right;\">\n",
       "      <th></th>\n",
       "      <th>Amount</th>\n",
       "    </tr>\n",
       "    <tr>\n",
       "      <th>Branch</th>\n",
       "      <th></th>\n",
       "    </tr>\n",
       "  </thead>\n",
       "  <tbody>\n",
       "    <tr>\n",
       "      <th>Al Azizia</th>\n",
       "      <td>91.0</td>\n",
       "    </tr>\n",
       "    <tr>\n",
       "      <th>Al Balad</th>\n",
       "      <td>81.0</td>\n",
       "    </tr>\n",
       "    <tr>\n",
       "      <th>Al Khaleej</th>\n",
       "      <td>194.0</td>\n",
       "    </tr>\n",
       "    <tr>\n",
       "      <th>Al Manar</th>\n",
       "      <td>17.0</td>\n",
       "    </tr>\n",
       "    <tr>\n",
       "      <th>Al Murooj</th>\n",
       "      <td>14.0</td>\n",
       "    </tr>\n",
       "    <tr>\n",
       "      <th>Al Quds</th>\n",
       "      <td>34.0</td>\n",
       "    </tr>\n",
       "    <tr>\n",
       "      <th>Al Rabie</th>\n",
       "      <td>63.0</td>\n",
       "    </tr>\n",
       "    <tr>\n",
       "      <th>Al Rabwa</th>\n",
       "      <td>32.0</td>\n",
       "    </tr>\n",
       "    <tr>\n",
       "      <th>Al Rayyan - Buraidah</th>\n",
       "      <td>45.0</td>\n",
       "    </tr>\n",
       "    <tr>\n",
       "      <th>Al Shatee - Al Dammam</th>\n",
       "      <td>167.0</td>\n",
       "    </tr>\n",
       "    <tr>\n",
       "      <th>Al Yarmouk</th>\n",
       "      <td>114.0</td>\n",
       "    </tr>\n",
       "    <tr>\n",
       "      <th>Al-Jazeerah</th>\n",
       "      <td>96.0</td>\n",
       "    </tr>\n",
       "    <tr>\n",
       "      <th>Al-Naeem</th>\n",
       "      <td>111.0</td>\n",
       "    </tr>\n",
       "    <tr>\n",
       "      <th>Al-Narjes</th>\n",
       "      <td>37.0</td>\n",
       "    </tr>\n",
       "    <tr>\n",
       "      <th>Dahrat Laban</th>\n",
       "      <td>25.0</td>\n",
       "    </tr>\n",
       "    <tr>\n",
       "      <th>Dariyah</th>\n",
       "      <td>15.0</td>\n",
       "    </tr>\n",
       "    <tr>\n",
       "      <th>Irqa</th>\n",
       "      <td>9.0</td>\n",
       "    </tr>\n",
       "    <tr>\n",
       "      <th>Nahda</th>\n",
       "      <td>10.0</td>\n",
       "    </tr>\n",
       "    <tr>\n",
       "      <th>Wusayta</th>\n",
       "      <td>104.0</td>\n",
       "    </tr>\n",
       "    <tr>\n",
       "      <th>Total</th>\n",
       "      <td>1259.0</td>\n",
       "    </tr>\n",
       "  </tbody>\n",
       "</table>\n",
       "</div>"
      ],
      "text/plain": [
       "                       Amount\n",
       "Branch                       \n",
       "Al Azizia                91.0\n",
       "Al Balad                 81.0\n",
       "Al Khaleej              194.0\n",
       "Al Manar                 17.0\n",
       "Al Murooj                14.0\n",
       "Al Quds                  34.0\n",
       "Al Rabie                 63.0\n",
       "Al Rabwa                 32.0\n",
       "Al Rayyan - Buraidah     45.0\n",
       "Al Shatee - Al Dammam   167.0\n",
       "Al Yarmouk              114.0\n",
       "Al-Jazeerah              96.0\n",
       "Al-Naeem                111.0\n",
       "Al-Narjes                37.0\n",
       "Dahrat Laban             25.0\n",
       "Dariyah                  15.0\n",
       "Irqa                      9.0\n",
       "Nahda                    10.0\n",
       "Wusayta                 104.0\n",
       "Total                  1259.0"
      ]
     },
     "execution_count": 31,
     "metadata": {
      "tags": []
     },
     "output_type": "execute_result"
    }
   ],
   "source": [
    "Amount_Branch_Pivot"
   ]
  },
  {
   "cell_type": "code",
   "execution_count": 32,
   "metadata": {
    "id": "s5KyMS4ET762"
   },
   "outputs": [],
   "source": [
    "#Number of Order /Day \n",
    "Amount_Branch_Date_Pivot = pd.pivot_table(df,'Order #',index=df[\"Order Creation Date\"].dt.strftime('%Y-%m-%d'), aggfunc='count',margins=False, margins_name=\"Total\")"
   ]
  },
  {
   "cell_type": "code",
   "execution_count": 33,
   "metadata": {
    "colab": {
     "base_uri": "https://localhost:8080/",
     "height": 195
    },
    "id": "dbTlel1zVh1H",
    "outputId": "ad05aceb-9ee3-4509-90eb-6c51549a7bd1"
   },
   "outputs": [
    {
     "data": {
      "text/html": [
       "<div>\n",
       "<style scoped>\n",
       "    .dataframe tbody tr th:only-of-type {\n",
       "        vertical-align: middle;\n",
       "    }\n",
       "\n",
       "    .dataframe tbody tr th {\n",
       "        vertical-align: top;\n",
       "    }\n",
       "\n",
       "    .dataframe thead th {\n",
       "        text-align: right;\n",
       "    }\n",
       "</style>\n",
       "<table border=\"1\" class=\"dataframe\">\n",
       "  <thead>\n",
       "    <tr style=\"text-align: right;\">\n",
       "      <th></th>\n",
       "      <th>Order #</th>\n",
       "    </tr>\n",
       "    <tr>\n",
       "      <th>Order Creation Date</th>\n",
       "      <th></th>\n",
       "    </tr>\n",
       "  </thead>\n",
       "  <tbody>\n",
       "    <tr>\n",
       "      <th>2020-10-12</th>\n",
       "      <td>1</td>\n",
       "    </tr>\n",
       "    <tr>\n",
       "      <th>2020-12-12</th>\n",
       "      <td>1</td>\n",
       "    </tr>\n",
       "    <tr>\n",
       "      <th>2020-12-13</th>\n",
       "      <td>16</td>\n",
       "    </tr>\n",
       "    <tr>\n",
       "      <th>2020-12-14</th>\n",
       "      <td>20</td>\n",
       "    </tr>\n",
       "  </tbody>\n",
       "</table>\n",
       "</div>"
      ],
      "text/plain": [
       "                     Order #\n",
       "Order Creation Date         \n",
       "2020-10-12                 1\n",
       "2020-12-12                 1\n",
       "2020-12-13                16\n",
       "2020-12-14                20"
      ]
     },
     "execution_count": 33,
     "metadata": {
      "tags": []
     },
     "output_type": "execute_result"
    }
   ],
   "source": [
    "Amount_Branch_Date_Pivot\n"
   ]
  },
  {
   "cell_type": "code",
   "execution_count": 34,
   "metadata": {
    "colab": {
     "base_uri": "https://localhost:8080/",
     "height": 545
    },
    "id": "OAz3jt5dpYwq",
    "outputId": "72f29d35-3daa-426c-c44e-528558785097"
   },
   "outputs": [
    {
     "data": {
      "image/png": "[encoded data removed]",
      "text/plain": [
       "<Figure size 576x576 with 1 Axes>"
      ]
     },
     "metadata": {
      "needs_background": "light",
      "tags": []
     },
     "output_type": "display_data"
    }
   ],
   "source": [
    "Amount_Branch_Date_Pivot.plot(kind=\"bar\", figsize=(8,8))\n",
    "plt.show()"
   ]
  },
  {
   "cell_type": "code",
   "execution_count": 38,
   "metadata": {
    "id": "TXg_f3NiYJNt"
   },
   "outputs": [],
   "source": [
    "#Number of Order/Day for each Branch\n",
    "Branch_Date_Pivot = pd.pivot_table(df,'Order #',index=[\"Branch\"],columns=df[\"Order Creation Date\"].dt.strftime('%Y-%m-%d'), aggfunc='count',fill_value=0)"
   ]
  },
  {
   "cell_type": "code",
   "execution_count": 39,
   "metadata": {
    "colab": {
     "base_uri": "https://localhost:8080/",
     "height": 639
    },
    "id": "WiZ4l9Qhp9Ee",
    "outputId": "06988b58-d69a-4090-ac35-3e1707532702"
   },
   "outputs": [
    {
     "data": {
      "text/html": [
       "<div>\n",
       "<style scoped>\n",
       "    .dataframe tbody tr th:only-of-type {\n",
       "        vertical-align: middle;\n",
       "    }\n",
       "\n",
       "    .dataframe tbody tr th {\n",
       "        vertical-align: top;\n",
       "    }\n",
       "\n",
       "    .dataframe thead th {\n",
       "        text-align: right;\n",
       "    }\n",
       "</style>\n",
       "<table border=\"1\" class=\"dataframe\">\n",
       "  <thead>\n",
       "    <tr style=\"text-align: right;\">\n",
       "      <th>Order Creation Date</th>\n",
       "      <th>2020-10-12</th>\n",
       "      <th>2020-12-12</th>\n",
       "      <th>2020-12-13</th>\n",
       "      <th>2020-12-14</th>\n",
       "    </tr>\n",
       "    <tr>\n",
       "      <th>Branch</th>\n",
       "      <th></th>\n",
       "      <th></th>\n",
       "      <th></th>\n",
       "      <th></th>\n",
       "    </tr>\n",
       "  </thead>\n",
       "  <tbody>\n",
       "    <tr>\n",
       "      <th>Al Azizia</th>\n",
       "      <td>0</td>\n",
       "      <td>0</td>\n",
       "      <td>3</td>\n",
       "      <td>0</td>\n",
       "    </tr>\n",
       "    <tr>\n",
       "      <th>Al Balad</th>\n",
       "      <td>0</td>\n",
       "      <td>0</td>\n",
       "      <td>1</td>\n",
       "      <td>2</td>\n",
       "    </tr>\n",
       "    <tr>\n",
       "      <th>Al Khaleej</th>\n",
       "      <td>0</td>\n",
       "      <td>1</td>\n",
       "      <td>1</td>\n",
       "      <td>0</td>\n",
       "    </tr>\n",
       "    <tr>\n",
       "      <th>Al Manar</th>\n",
       "      <td>0</td>\n",
       "      <td>0</td>\n",
       "      <td>0</td>\n",
       "      <td>1</td>\n",
       "    </tr>\n",
       "    <tr>\n",
       "      <th>Al Murooj</th>\n",
       "      <td>0</td>\n",
       "      <td>0</td>\n",
       "      <td>0</td>\n",
       "      <td>1</td>\n",
       "    </tr>\n",
       "    <tr>\n",
       "      <th>Al Quds</th>\n",
       "      <td>0</td>\n",
       "      <td>0</td>\n",
       "      <td>0</td>\n",
       "      <td>1</td>\n",
       "    </tr>\n",
       "    <tr>\n",
       "      <th>Al Rabie</th>\n",
       "      <td>0</td>\n",
       "      <td>0</td>\n",
       "      <td>1</td>\n",
       "      <td>0</td>\n",
       "    </tr>\n",
       "    <tr>\n",
       "      <th>Al Rabwa</th>\n",
       "      <td>0</td>\n",
       "      <td>0</td>\n",
       "      <td>1</td>\n",
       "      <td>2</td>\n",
       "    </tr>\n",
       "    <tr>\n",
       "      <th>Al Rayyan - Buraidah</th>\n",
       "      <td>0</td>\n",
       "      <td>0</td>\n",
       "      <td>0</td>\n",
       "      <td>2</td>\n",
       "    </tr>\n",
       "    <tr>\n",
       "      <th>Al Shatee - Al Dammam</th>\n",
       "      <td>0</td>\n",
       "      <td>0</td>\n",
       "      <td>0</td>\n",
       "      <td>3</td>\n",
       "    </tr>\n",
       "    <tr>\n",
       "      <th>Al Yarmouk</th>\n",
       "      <td>1</td>\n",
       "      <td>0</td>\n",
       "      <td>2</td>\n",
       "      <td>1</td>\n",
       "    </tr>\n",
       "    <tr>\n",
       "      <th>Al-Jazeerah</th>\n",
       "      <td>0</td>\n",
       "      <td>0</td>\n",
       "      <td>2</td>\n",
       "      <td>0</td>\n",
       "    </tr>\n",
       "    <tr>\n",
       "      <th>Al-Naeem</th>\n",
       "      <td>0</td>\n",
       "      <td>0</td>\n",
       "      <td>3</td>\n",
       "      <td>2</td>\n",
       "    </tr>\n",
       "    <tr>\n",
       "      <th>Al-Narjes</th>\n",
       "      <td>0</td>\n",
       "      <td>0</td>\n",
       "      <td>1</td>\n",
       "      <td>0</td>\n",
       "    </tr>\n",
       "    <tr>\n",
       "      <th>Dahrat Laban</th>\n",
       "      <td>0</td>\n",
       "      <td>0</td>\n",
       "      <td>0</td>\n",
       "      <td>1</td>\n",
       "    </tr>\n",
       "    <tr>\n",
       "      <th>Dariyah</th>\n",
       "      <td>0</td>\n",
       "      <td>0</td>\n",
       "      <td>0</td>\n",
       "      <td>1</td>\n",
       "    </tr>\n",
       "    <tr>\n",
       "      <th>Irqa</th>\n",
       "      <td>0</td>\n",
       "      <td>0</td>\n",
       "      <td>1</td>\n",
       "      <td>0</td>\n",
       "    </tr>\n",
       "    <tr>\n",
       "      <th>Nahda</th>\n",
       "      <td>0</td>\n",
       "      <td>0</td>\n",
       "      <td>0</td>\n",
       "      <td>1</td>\n",
       "    </tr>\n",
       "    <tr>\n",
       "      <th>Wusayta</th>\n",
       "      <td>0</td>\n",
       "      <td>0</td>\n",
       "      <td>0</td>\n",
       "      <td>2</td>\n",
       "    </tr>\n",
       "  </tbody>\n",
       "</table>\n",
       "</div>"
      ],
      "text/plain": [
       "Order Creation Date    2020-10-12  2020-12-12  2020-12-13  2020-12-14\n",
       "Branch                                                               \n",
       "Al Azizia                       0           0           3           0\n",
       "Al Balad                        0           0           1           2\n",
       "Al Khaleej                      0           1           1           0\n",
       "Al Manar                        0           0           0           1\n",
       "Al Murooj                       0           0           0           1\n",
       "Al Quds                         0           0           0           1\n",
       "Al Rabie                        0           0           1           0\n",
       "Al Rabwa                        0           0           1           2\n",
       "Al Rayyan - Buraidah            0           0           0           2\n",
       "Al Shatee - Al Dammam           0           0           0           3\n",
       "Al Yarmouk                      1           0           2           1\n",
       "Al-Jazeerah                     0           0           2           0\n",
       "Al-Naeem                        0           0           3           2\n",
       "Al-Narjes                       0           0           1           0\n",
       "Dahrat Laban                    0           0           0           1\n",
       "Dariyah                         0           0           0           1\n",
       "Irqa                            0           0           1           0\n",
       "Nahda                           0           0           0           1\n",
       "Wusayta                         0           0           0           2"
      ]
     },
     "execution_count": 39,
     "metadata": {
      "tags": []
     },
     "output_type": "execute_result"
    }
   ],
   "source": [
    "Branch_Date_Pivot"
   ]
  },
  {
   "cell_type": "code",
   "execution_count": 40,
   "metadata": {
    "id": "IO5_awjgvdDa"
   },
   "outputs": [],
   "source": [
    "Amount_Branch_Pivot.to_excel(\"Amount_Branch_Pivot.xlsx\")"
   ]
  },
  {
   "cell_type": "code",
   "execution_count": 134,
   "metadata": {
    "colab": {
     "base_uri": "https://localhost:8080/"
    },
    "id": "V3auG3vqGfJe",
    "outputId": "b736e82d-b6ae-428d-a3d4-a2902d07e241"
   },
   "outputs": [
    {
     "name": "stdout",
     "output_type": "stream",
     "text": [
      "Collecting xlsxwriter\n",
      "\u001b[?25l  Downloading https://files.pythonhosted.org/packages/6b/41/bf1aae04932d1eaffee1fc5f8b38ca47bbbf07d765129539bc4bcce1ce0c/XlsxWriter-1.3.7-py2.py3-none-any.whl (144kB)\n",
      "\r",
      "\u001b[K     |██▎                             | 10kB 18.3MB/s eta 0:00:01\r",
      "\u001b[K     |████▌                           | 20kB 23.0MB/s eta 0:00:01\r",
      "\u001b[K     |██████▉                         | 30kB 9.3MB/s eta 0:00:01\r",
      "\u001b[K     |█████████                       | 40kB 8.1MB/s eta 0:00:01\r",
      "\u001b[K     |███████████▎                    | 51kB 4.2MB/s eta 0:00:01\r",
      "\u001b[K     |█████████████▋                  | 61kB 4.6MB/s eta 0:00:01\r",
      "\u001b[K     |███████████████▉                | 71kB 4.7MB/s eta 0:00:01\r",
      "\u001b[K     |██████████████████▏             | 81kB 5.2MB/s eta 0:00:01\r",
      "\u001b[K     |████████████████████▍           | 92kB 5.4MB/s eta 0:00:01\r",
      "\u001b[K     |██████████████████████▋         | 102kB 5.6MB/s eta 0:00:01\r",
      "\u001b[K     |█████████████████████████       | 112kB 5.6MB/s eta 0:00:01\r",
      "\u001b[K     |███████████████████████████▏    | 122kB 5.6MB/s eta 0:00:01\r",
      "\u001b[K     |█████████████████████████████▌  | 133kB 5.6MB/s eta 0:00:01\r",
      "\u001b[K     |███████████████████████████████▊| 143kB 5.6MB/s eta 0:00:01\r",
      "\u001b[K     |████████████████████████████████| 153kB 5.6MB/s \n",
      "\u001b[?25hInstalling collected packages: xlsxwriter\n",
      "Successfully installed xlsxwriter-1.3.7\n"
     ]
    }
   ],
   "source": [
    "#installing xlsxwriter library\n",
    "!pip install xlsxwriter"
   ]
  },
  {
   "cell_type": "code",
   "execution_count": 41,
   "metadata": {
    "id": "qjuVBtzRrJSz"
   },
   "outputs": [],
   "source": [
    "import xlsxwriter\n",
    "\n",
    "writer = pd.ExcelWriter(\"/content/PivotTables.xlsx\", engine='xlsxwriter')\n",
    "df_copy.to_excel(writer, sheet_name='DataFrame')\n",
    "\n",
    "Amount_Branch_Pivot.to_excel(writer, sheet_name='Amount_Branch_Pivot')\n",
    "Order_Branch_Pivot.to_excel(writer, sheet_name='Order_Branch_Pivot')\n",
    "Branch_Date_Pivot.to_excel(writer, sheet_name='Branch_Date_Pivot')\n",
    "Amount_Branch_Date_Pivot.to_excel(writer, sheet_name='Amount_Branch_Date_Pivot')\n",
    "\n",
    "writer.save()"
   ]
  },
  {
   "cell_type": "code",
   "execution_count": null,
   "metadata": {
    "id": "yTDqSZMS7Ar9"
   },
   "outputs": [],
   "source": []
  },
  {
   "cell_type": "code",
   "execution_count": null,
   "metadata": {
    "id": "VE94VI-jvA23"
   },
   "outputs": [],
   "source": []
  },
  {
   "cell_type": "code",
   "execution_count": 136,
   "metadata": {
    "id": "qKrbdpulEgnX"
   },
   "outputs": [],
   "source": [
    "\n",
    "writer = pd.ExcelWriter(\"/content/PivotTables.xlsx\", engine='xlsxwriter')\n",
    "Amount_Branch_Pivot.to_excel(writer, sheet_name='Amount_Branch_Pivot')\n",
    "wb.save(\"/content/SecSheet.xlsx\")\n",
    "writer.save()"
   ]
  }
 ],
 "metadata": {
  "colab": {
   "collapsed_sections": [],
   "name": "Food_Basics_Task2.ipynb",
   "provenance": []
  },
  "kernelspec": {
   "display_name": "Python 3",
   "language": "python",
   "name": "python3"
  },
  "language_info": {
   "codemirror_mode": {
    "name": "ipython",
    "version": 3
   },
   "file_extension": ".py",
   "mimetype": "text/x-python",
   "name": "python",
   "nbconvert_exporter": "python",
   "pygments_lexer": "ipython3",
   "version": "3.8.3"
  }
 },
 "nbformat": 4,
 "nbformat_minor": 1
}
